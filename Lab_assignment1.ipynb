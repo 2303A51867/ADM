{
  "nbformat": 4,
  "nbformat_minor": 0,
  "metadata": {
    "colab": {
      "provenance": [],
      "authorship_tag": "ABX9TyNfWy25/SwXP6a81ttmyKgJ",
      "include_colab_link": true
    },
    "kernelspec": {
      "name": "python3",
      "display_name": "Python 3"
    },
    "language_info": {
      "name": "python"
    }
  },
  "cells": [
    {
      "cell_type": "markdown",
      "metadata": {
        "id": "view-in-github",
        "colab_type": "text"
      },
      "source": [
        "<a href=\"https://colab.research.google.com/github/2303A51867/ADM/blob/main/Lab_assignment1.ipynb\" target=\"_parent\"><img src=\"https://colab.research.google.com/assets/colab-badge.svg\" alt=\"Open In Colab\"/></a>"
      ]
    },
    {
      "cell_type": "code",
      "execution_count": null,
      "metadata": {
        "id": "ApP64ZSgbiHb",
        "colab": {
          "base_uri": "https://localhost:8080/"
        },
        "outputId": "ef7eabb3-e8e7-4b03-c086-bc4582650d9a"
      },
      "outputs": [
        {
          "output_type": "stream",
          "name": "stdout",
          "text": [
            "Dataset Loaded Successfully:\n",
            "     Pregnancies  Glucose  BloodPressure  SkinThickness  Insulin   BMI  \\\n",
            "0              6      148             72             35        0  33.6   \n",
            "1              1       85             66             29        0  26.6   \n",
            "2              8      183             64              0        0  23.3   \n",
            "3              1       89             66             23       94  28.1   \n",
            "4              0      137             40             35      168  43.1   \n",
            "..           ...      ...            ...            ...      ...   ...   \n",
            "763           10      101             76             48      180  32.9   \n",
            "764            2      122             70             27        0  36.8   \n",
            "765            5      121             72             23      112  26.2   \n",
            "766            1      126             60              0        0  30.1   \n",
            "767            1       93             70             31        0  30.4   \n",
            "\n",
            "     DiabetesPedigreeFunction  Age  Outcome  \n",
            "0                       0.627   50        1  \n",
            "1                       0.351   31        0  \n",
            "2                       0.672   32        1  \n",
            "3                       0.167   21        0  \n",
            "4                       2.288   33        1  \n",
            "..                        ...  ...      ...  \n",
            "763                     0.171   63        0  \n",
            "764                     0.340   27        0  \n",
            "765                     0.245   30        0  \n",
            "766                     0.349   47        1  \n",
            "767                     0.315   23        0  \n",
            "\n",
            "[768 rows x 9 columns]\n"
          ]
        }
      ],
      "source": [
        "#1 Load a dataset\n",
        "import pandas as pd\n",
        "file_path = '/diabetes.csv'\n",
        "data = pd.read_csv(file_path)\n",
        "print(data)"
      ]
    },
    {
      "cell_type": "code",
      "source": [
        "#2 missing values\n",
        "print(\"\\nMissing Values Before Handling:\")\n",
        "print(data.isnull().sum())\n",
        "for column in data.columns:\n",
        "    if data[column].isnull().any():\n",
        "        if data[column].dtype == 'object':\n",
        "            data[column].fillna(data[column].mode()[0], inplace=True)\n",
        "        else:\n",
        "            data[column].fillna(data[column].mean(), inplace=True)\n",
        "print(\"\\nMissing Values After Handling:\")\n",
        "print(data.isnull().sum())"
      ],
      "metadata": {
        "colab": {
          "base_uri": "https://localhost:8080/"
        },
        "id": "g1rc350kjR5D",
        "outputId": "c5ac4512-2d02-412a-d540-d986afe16983"
      },
      "execution_count": null,
      "outputs": [
        {
          "output_type": "stream",
          "name": "stdout",
          "text": [
            "\n",
            "Missing Values Before Handling:\n",
            "Pregnancies                 0\n",
            "Glucose                     0\n",
            "BloodPressure               0\n",
            "SkinThickness               0\n",
            "Insulin                     0\n",
            "BMI                         0\n",
            "DiabetesPedigreeFunction    0\n",
            "Age                         0\n",
            "Outcome                     0\n",
            "dtype: int64\n",
            "\n",
            "Missing Values After Handling:\n",
            "Pregnancies                 0\n",
            "Glucose                     0\n",
            "BloodPressure               0\n",
            "SkinThickness               0\n",
            "Insulin                     0\n",
            "BMI                         0\n",
            "DiabetesPedigreeFunction    0\n",
            "Age                         0\n",
            "Outcome                     0\n",
            "dtype: int64\n"
          ]
        }
      ]
    },
    {
      "cell_type": "code",
      "source": [
        "#3 Min-Max\n",
        "numerical_columns = data.select_dtypes(include=['number']).columns\n",
        "for col in numerical_columns:\n",
        "    data[col] = (data[col] - data[col].min()) / (data[col].max() - data[col].min())\n",
        "\n",
        "print(\"\\nDataset After Min-Max Scaling:\")\n",
        "print(data.head())\n"
      ],
      "metadata": {
        "colab": {
          "base_uri": "https://localhost:8080/"
        },
        "id": "UDcZoYTZlqbK",
        "outputId": "fbfed179-8efb-426b-cdbf-d8a78493a054"
      },
      "execution_count": null,
      "outputs": [
        {
          "output_type": "stream",
          "name": "stdout",
          "text": [
            "\n",
            "Dataset After Min-Max Scaling:\n",
            "   Pregnancies   Glucose  BloodPressure  SkinThickness   Insulin       BMI  \\\n",
            "0     0.352941  0.743719       0.590164       0.353535  0.000000  0.500745   \n",
            "1     0.058824  0.427136       0.540984       0.292929  0.000000  0.396423   \n",
            "2     0.470588  0.919598       0.524590       0.000000  0.000000  0.347243   \n",
            "3     0.058824  0.447236       0.540984       0.232323  0.111111  0.418778   \n",
            "4     0.000000  0.688442       0.327869       0.353535  0.198582  0.642325   \n",
            "\n",
            "   DiabetesPedigreeFunction       Age  Outcome  \n",
            "0                  0.234415  0.483333      1.0  \n",
            "1                  0.116567  0.166667      0.0  \n",
            "2                  0.253629  0.183333      1.0  \n",
            "3                  0.038002  0.000000      0.0  \n",
            "4                  0.943638  0.200000      1.0  \n"
          ]
        }
      ]
    }
  ]
}